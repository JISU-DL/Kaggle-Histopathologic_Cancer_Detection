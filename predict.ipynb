{
 "cells": [
  {
   "cell_type": "code",
   "execution_count": null,
   "metadata": {},
   "outputs": [],
   "source": [
    "from glob import glob\n",
    "import keras\n",
    "import pandas as pd\n",
    "import numpy as np\n",
    "import tensorflow as tf\n",
    "from keras.models import model_from_json\n",
    "\n",
    "def chunk(seq, size):\n",
    "    return (seq[pos:pos + size] for pos in range(0, len(seq), size))\n",
    "\n",
    "def get_id_from_file_path(file_path):\n",
    "    return file_path.split(os.path.sep)[-1].replace('.tif', '')\n",
    "\n",
    "test_files = glob('../test/*.tif')\n",
    "\n",
    "model = model_from_json('model.json')\n",
    "model.load_weights(glob('./ResNeXt*.h5')[-1])\n",
    "\n",
    "predicts = []\n",
    "ids = []\n",
    "batch_size = 32\n",
    "\n",
    "for itr,batch in enumerate(chunk(test_files, batch_size)):\n",
    "    print('\\rPrograss : %d/%d'%(itr*batch_size,len(test_files)))\n",
    "    X = [(cv2.imread(x)/255) for x in batch]\n",
    "    ids_batch = [get_id_from_file_path(x) for x in batch]\n",
    "    X = np.array(X)\n",
    "    preds_batch = ((\n",
    "        model.predict(X).ravel()*model.predict(X[:, ::-1, :, :]).ravel()*model.predict(X[:, ::-1, ::-1, :]).ravel()*model.predict(X[:, :, ::-1, :]).ravel())**0.25).tolist()\n",
    "    preds += preds_batch\n",
    "    ids += ids_batch\n",
    "    \n",
    "df = pd.DataFrame({'id':ids, 'label':preds})\n",
    "df.to_csv(\"resnext.csv\", index=False)\n",
    "df.head()\n"
   ]
  }
 ],
 "metadata": {
  "kernelspec": {
   "display_name": "Python 3",
   "language": "python",
   "name": "python3"
  },
  "language_info": {
   "codemirror_mode": {
    "name": "ipython",
    "version": 3
   },
   "file_extension": ".py",
   "mimetype": "text/x-python",
   "name": "python",
   "nbconvert_exporter": "python",
   "pygments_lexer": "ipython3",
   "version": "3.6.8"
  }
 },
 "nbformat": 4,
 "nbformat_minor": 2
}
